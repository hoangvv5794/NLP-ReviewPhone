{
  "nbformat": 4,
  "nbformat_minor": 0,
  "metadata": {
    "colab": {
      "name": "TGDD-Word2Vec-LSTM.ipynb",
      "provenance": [],
      "collapsed_sections": [],
      "authorship_tag": "ABX9TyMJ0jZX5lCrFY9IZmNbVgXs",
      "include_colab_link": true
    },
    "kernelspec": {
      "name": "python3",
      "display_name": "Python 3"
    },
    "language_info": {
      "name": "python"
    }
  },
  "cells": [
    {
      "cell_type": "markdown",
      "metadata": {
        "id": "view-in-github",
        "colab_type": "text"
      },
      "source": [
        "<a href=\"https://colab.research.google.com/github/hoangvv5794/NLP-ReviewPhone/blob/main/TGDD_Word2Vec_LSTM.ipynb\" target=\"_parent\"><img src=\"https://colab.research.google.com/assets/colab-badge.svg\" alt=\"Open In Colab\"/></a>"
      ]
    },
    {
      "cell_type": "markdown",
      "source": [
        "**Import dữ liệu và lib cần thiết**\n",
        "\n"
      ],
      "metadata": {
        "id": "vyek_t5dJ6FG"
      }
    },
    {
      "cell_type": "code",
      "execution_count": 1,
      "metadata": {
        "colab": {
          "base_uri": "https://localhost:8080/",
          "height": 143
        },
        "id": "niyIX7RWRGYJ",
        "outputId": "05fcd751-16ac-488a-b2c4-3196d4481daf"
      },
      "outputs": [
        {
          "output_type": "execute_result",
          "data": {
            "text/plain": [
              "                                                text  label\n",
              "0         K mục_đích chơi game thi máy khá ổn bin ok      1\n",
              "1  Rất vừa_tay Màn_hình lớn hiển_thị tốt Trọng_lư...      1\n",
              "2  Mỗi thứ đều tốt nhưng pin yếu ko đủ sài trong ...      1"
            ],
            "text/html": [
              "\n",
              "  <div id=\"df-ebd56fe8-b820-41f3-a890-a2bdb65ab66c\">\n",
              "    <div class=\"colab-df-container\">\n",
              "      <div>\n",
              "<style scoped>\n",
              "    .dataframe tbody tr th:only-of-type {\n",
              "        vertical-align: middle;\n",
              "    }\n",
              "\n",
              "    .dataframe tbody tr th {\n",
              "        vertical-align: top;\n",
              "    }\n",
              "\n",
              "    .dataframe thead th {\n",
              "        text-align: right;\n",
              "    }\n",
              "</style>\n",
              "<table border=\"1\" class=\"dataframe\">\n",
              "  <thead>\n",
              "    <tr style=\"text-align: right;\">\n",
              "      <th></th>\n",
              "      <th>text</th>\n",
              "      <th>label</th>\n",
              "    </tr>\n",
              "  </thead>\n",
              "  <tbody>\n",
              "    <tr>\n",
              "      <th>0</th>\n",
              "      <td>K mục_đích chơi game thi máy khá ổn bin ok</td>\n",
              "      <td>1</td>\n",
              "    </tr>\n",
              "    <tr>\n",
              "      <th>1</th>\n",
              "      <td>Rất vừa_tay Màn_hình lớn hiển_thị tốt Trọng_lư...</td>\n",
              "      <td>1</td>\n",
              "    </tr>\n",
              "    <tr>\n",
              "      <th>2</th>\n",
              "      <td>Mỗi thứ đều tốt nhưng pin yếu ko đủ sài trong ...</td>\n",
              "      <td>1</td>\n",
              "    </tr>\n",
              "  </tbody>\n",
              "</table>\n",
              "</div>\n",
              "      <button class=\"colab-df-convert\" onclick=\"convertToInteractive('df-ebd56fe8-b820-41f3-a890-a2bdb65ab66c')\"\n",
              "              title=\"Convert this dataframe to an interactive table.\"\n",
              "              style=\"display:none;\">\n",
              "        \n",
              "  <svg xmlns=\"http://www.w3.org/2000/svg\" height=\"24px\"viewBox=\"0 0 24 24\"\n",
              "       width=\"24px\">\n",
              "    <path d=\"M0 0h24v24H0V0z\" fill=\"none\"/>\n",
              "    <path d=\"M18.56 5.44l.94 2.06.94-2.06 2.06-.94-2.06-.94-.94-2.06-.94 2.06-2.06.94zm-11 1L8.5 8.5l.94-2.06 2.06-.94-2.06-.94L8.5 2.5l-.94 2.06-2.06.94zm10 10l.94 2.06.94-2.06 2.06-.94-2.06-.94-.94-2.06-.94 2.06-2.06.94z\"/><path d=\"M17.41 7.96l-1.37-1.37c-.4-.4-.92-.59-1.43-.59-.52 0-1.04.2-1.43.59L10.3 9.45l-7.72 7.72c-.78.78-.78 2.05 0 2.83L4 21.41c.39.39.9.59 1.41.59.51 0 1.02-.2 1.41-.59l7.78-7.78 2.81-2.81c.8-.78.8-2.07 0-2.86zM5.41 20L4 18.59l7.72-7.72 1.47 1.35L5.41 20z\"/>\n",
              "  </svg>\n",
              "      </button>\n",
              "      \n",
              "  <style>\n",
              "    .colab-df-container {\n",
              "      display:flex;\n",
              "      flex-wrap:wrap;\n",
              "      gap: 12px;\n",
              "    }\n",
              "\n",
              "    .colab-df-convert {\n",
              "      background-color: #E8F0FE;\n",
              "      border: none;\n",
              "      border-radius: 50%;\n",
              "      cursor: pointer;\n",
              "      display: none;\n",
              "      fill: #1967D2;\n",
              "      height: 32px;\n",
              "      padding: 0 0 0 0;\n",
              "      width: 32px;\n",
              "    }\n",
              "\n",
              "    .colab-df-convert:hover {\n",
              "      background-color: #E2EBFA;\n",
              "      box-shadow: 0px 1px 2px rgba(60, 64, 67, 0.3), 0px 1px 3px 1px rgba(60, 64, 67, 0.15);\n",
              "      fill: #174EA6;\n",
              "    }\n",
              "\n",
              "    [theme=dark] .colab-df-convert {\n",
              "      background-color: #3B4455;\n",
              "      fill: #D2E3FC;\n",
              "    }\n",
              "\n",
              "    [theme=dark] .colab-df-convert:hover {\n",
              "      background-color: #434B5C;\n",
              "      box-shadow: 0px 1px 3px 1px rgba(0, 0, 0, 0.15);\n",
              "      filter: drop-shadow(0px 1px 2px rgba(0, 0, 0, 0.3));\n",
              "      fill: #FFFFFF;\n",
              "    }\n",
              "  </style>\n",
              "\n",
              "      <script>\n",
              "        const buttonEl =\n",
              "          document.querySelector('#df-ebd56fe8-b820-41f3-a890-a2bdb65ab66c button.colab-df-convert');\n",
              "        buttonEl.style.display =\n",
              "          google.colab.kernel.accessAllowed ? 'block' : 'none';\n",
              "\n",
              "        async function convertToInteractive(key) {\n",
              "          const element = document.querySelector('#df-ebd56fe8-b820-41f3-a890-a2bdb65ab66c');\n",
              "          const dataTable =\n",
              "            await google.colab.kernel.invokeFunction('convertToInteractive',\n",
              "                                                     [key], {});\n",
              "          if (!dataTable) return;\n",
              "\n",
              "          const docLinkHtml = 'Like what you see? Visit the ' +\n",
              "            '<a target=\"_blank\" href=https://colab.research.google.com/notebooks/data_table.ipynb>data table notebook</a>'\n",
              "            + ' to learn more about interactive tables.';\n",
              "          element.innerHTML = '';\n",
              "          dataTable['output_type'] = 'display_data';\n",
              "          await google.colab.output.renderOutput(dataTable, element);\n",
              "          const docLink = document.createElement('div');\n",
              "          docLink.innerHTML = docLinkHtml;\n",
              "          element.appendChild(docLink);\n",
              "        }\n",
              "      </script>\n",
              "    </div>\n",
              "  </div>\n",
              "  "
            ]
          },
          "metadata": {},
          "execution_count": 1
        }
      ],
      "source": [
        "from keras.models import Sequential\n",
        "from keras.layers import *\n",
        "from keras.preprocessing.sequence import pad_sequences\n",
        "import gensim\n",
        "import sys\n",
        "import numpy as np\n",
        "import pandas as pd\n",
        "import string\n",
        "import logging\n",
        "import random\n",
        "import matplotlib.pyplot as plt\n",
        "df= pd.read_csv('https://drive.google.com/uc?id=1G081vomFLNhuasdHwCGumZKdIWE3ZUYz', encoding='utf-8', sep='|')\n",
        "df.head(3)"
      ]
    },
    {
      "cell_type": "code",
      "source": [
        ""
      ],
      "metadata": {
        "id": "O49DZ99KP82N"
      },
      "execution_count": null,
      "outputs": []
    },
    {
      "cell_type": "code",
      "source": [
        "tgdd_df = df[['text','label']]\n",
        "tgdd_df['text'].values"
      ],
      "metadata": {
        "colab": {
          "base_uri": "https://localhost:8080/"
        },
        "id": "LSYERaXtUCvp",
        "outputId": "6dac6ef4-1f0b-4ef4-c677-929af8362373"
      },
      "execution_count": 2,
      "outputs": [
        {
          "output_type": "execute_result",
          "data": {
            "text/plain": [
              "array(['K mục_đích chơi game thi máy khá ổn bin ok',\n",
              "       'Rất vừa_tay Màn_hình lớn hiển_thị tốt Trọng_lượng nhẹ cầm_nắm tốt _Pin khoẻ _Dùng sương sương được một ngày',\n",
              "       'Mỗi thứ đều tốt nhưng pin yếu ko đủ sài trong 1 ngày huhu', ...,\n",
              "       'Tốt sản_phẩm tốt nhất tôi mua sản_phẩm mua khi giảm_giá thì tốt nhưng hk kèm sạc và tai ngje hơi kì nhưng saen phẩm tốt nhất là dsc',\n",
              "       'Máy cấu_hình tốt dùng rất đã luôn nhưng mình mua xong dùng được một lần duy_nhất hết pin không sạc lại đc vì phụ_kiện đi kèm không tương_thích với củ xạc cũ của Apple',\n",
              "       'Rất thích các mấu iPhone đẹp gọn sang các ứng_dụng và bảo_mật tốt rất hài_lòng các sản_phẩm iPhone'],\n",
              "      dtype=object)"
            ]
          },
          "metadata": {},
          "execution_count": 2
        }
      ]
    },
    {
      "cell_type": "markdown",
      "source": [
        "**Sử dụng model Word2Vec để pre-trained với thư viện Gensim**"
      ],
      "metadata": {
        "id": "hMLWvyseJwZ9"
      }
    },
    {
      "cell_type": "code",
      "source": [
        "tgdd_text=tgdd_df['text'].values.astype(str)\n",
        "\n",
        "input_gensim = []\n",
        "for text in tgdd_text:\n",
        "    input_gensim.append(text.split())\n",
        "\n",
        "w2v_model = gensim.models.Word2Vec(input_gensim, size=128, window=5, min_count=10, workers=8)\n",
        "\n",
        "# Retrieve the weights from the model. This is used for initializing the weights\n",
        "# in a Keras Embedding layer later\n",
        "w2v_weights = w2v_model.wv.vectors\n",
        "vocab_size, embedding_size = w2v_weights.shape"
      ],
      "metadata": {
        "id": "HNgqBQSCTlIt"
      },
      "execution_count": 4,
      "outputs": []
    },
    {
      "cell_type": "code",
      "source": [
        "print(\"Vocabulary Size: {} - Embedding Dim: {}\".format(vocab_size, embedding_size))\n"
      ],
      "metadata": {
        "colab": {
          "base_uri": "https://localhost:8080/"
        },
        "id": "WEPLs2gMUuta",
        "outputId": "a01b1b9f-8cb1-4f57-fd71-3b102fafaa6f"
      },
      "execution_count": 5,
      "outputs": [
        {
          "output_type": "stream",
          "name": "stdout",
          "text": [
            "Vocabulary Size: 5478 - Embedding Dim: 128\n"
          ]
        }
      ]
    },
    {
      "cell_type": "code",
      "source": [
        "def word2token(word):\n",
        "    try:\n",
        "        return w2v_model.wv.vocab[word].index\n",
        "    # If word is not in index return 0. I realize this means that this\n",
        "    # is the same as the word of index 0 (i.e. most frequent word), but 0s\n",
        "    # will be padded later anyway by the embedding layer (which also\n",
        "    # seems dirty but I couldn't find a better solution right now)\n",
        "    except KeyError:\n",
        "        return 0\n",
        "def token2word(token):\n",
        "    return w2v_model.wv.index2word[token]"
      ],
      "metadata": {
        "id": "4rQ05YU9Vam1"
      },
      "execution_count": 6,
      "outputs": []
    },
    {
      "cell_type": "code",
      "source": [
        "vocab=w2v_model.wv.vocab\n",
        "\n",
        "word_vec_dict={}\n",
        "for word in vocab:\n",
        "  word_vec_dict[word]=w2v_model.wv.get_vector(word)\n",
        "print(\"The no of key-value pairs : \",len(word_vec_dict)) # should come equal to vocab size"
      ],
      "metadata": {
        "colab": {
          "base_uri": "https://localhost:8080/"
        },
        "id": "avhLN-srXZjN",
        "outputId": "8fb8c74a-f064-4c71-9a4c-e8c500e8276e"
      },
      "execution_count": 7,
      "outputs": [
        {
          "output_type": "stream",
          "name": "stdout",
          "text": [
            "The no of key-value pairs :  5478\n"
          ]
        }
      ]
    },
    {
      "cell_type": "code",
      "source": [
        "maxi=-1\n",
        "for i,rev in enumerate(tgdd_text):\n",
        "  tokens=rev.split()\n",
        "  if(len(tokens)>maxi):\n",
        "    maxi=len(tokens)\n",
        "print(maxi)"
      ],
      "metadata": {
        "colab": {
          "base_uri": "https://localhost:8080/"
        },
        "id": "VZ1F-FX3YX2E",
        "outputId": "779c8a41-f4d6-4fac-895c-bfe1aafb0ffd"
      },
      "execution_count": 8,
      "outputs": [
        {
          "output_type": "stream",
          "name": "stdout",
          "text": [
            "646\n"
          ]
        }
      ]
    },
    {
      "cell_type": "markdown",
      "source": [
        "Chuyển toàn bộ văn bản sang dạng token"
      ],
      "metadata": {
        "id": "6nTz62U8KQ3z"
      }
    },
    {
      "cell_type": "code",
      "source": [
        "enc_dict=[]\n",
        "for text in tgdd_text:\n",
        "  enc_text=[]\n",
        "  tokens=text.split()\n",
        "  for token in tokens:\n",
        "    item=word2token(token)\n",
        "    enc_text.append(item)\n",
        "  enc_dict.append(enc_text)\n"
      ],
      "metadata": {
        "id": "pfOu74f0ejJ7"
      },
      "execution_count": 9,
      "outputs": []
    },
    {
      "cell_type": "code",
      "source": [
        "print(tgdd_text[0])\n",
        "print(enc_dict[0])"
      ],
      "metadata": {
        "colab": {
          "base_uri": "https://localhost:8080/"
        },
        "id": "QKnx6ezufihe",
        "outputId": "0e0fc874-c3c0-418e-cba9-dcac0a240a89"
      },
      "execution_count": 10,
      "outputs": [
        {
          "output_type": "stream",
          "name": "stdout",
          "text": [
            "K mục_đích chơi game thi máy khá ổn bin ok\n",
            "[1281, 1515, 31, 27, 410, 0, 78, 52, 332, 39]\n"
          ]
        }
      ]
    },
    {
      "cell_type": "markdown",
      "source": [
        "Chuyển văn bản sang dạng vector"
      ],
      "metadata": {
        "id": "syb3vx3JKXmZ"
      }
    },
    {
      "cell_type": "code",
      "source": [
        "max_rev_len=maxi+1  # max lenght of a review\n",
        "embed_dim=128 # embedding dimension as choosen in word2vec constructor\n",
        "# now padding to have a amximum length of 1565\n",
        "pad_rev= pad_sequences(enc_dict, maxlen=max_rev_len, padding='post')\n",
        "pad_rev.shape   # note that we had 100K reviews and we have padded each review to have  a lenght of 1565 words."
      ],
      "metadata": {
        "colab": {
          "base_uri": "https://localhost:8080/"
        },
        "id": "6WOnUCC5gIrJ",
        "outputId": "a4c2680b-8cf6-4454-c009-8c7695ee1ebb"
      },
      "execution_count": 13,
      "outputs": [
        {
          "output_type": "execute_result",
          "data": {
            "text/plain": [
              "(29764, 647)"
            ]
          },
          "metadata": {},
          "execution_count": 13
        }
      ]
    },
    {
      "cell_type": "markdown",
      "source": [
        "Tạo matrix emmbed"
      ],
      "metadata": {
        "id": "tkZiyp8SKdId"
      }
    },
    {
      "cell_type": "code",
      "source": [
        "embed_matrix=np.zeros(shape=(vocab_size,embed_dim))\n",
        "for word in vocab:\n",
        "  embed_vector=word_vec_dict.get(word)\n",
        "  if embed_vector is not None:  # word is in the vocabulary learned by the w2v model\n",
        "    index=vocab[word].index\n",
        "    embed_matrix[index]=embed_vector\n",
        "  # if word is not found then embed_vector corressponding to that vector will stay zero."
      ],
      "metadata": {
        "id": "WDe_PiyWgfSF"
      },
      "execution_count": 14,
      "outputs": []
    },
    {
      "cell_type": "markdown",
      "source": [
        "Chia tập train/valid/test"
      ],
      "metadata": {
        "id": "F7iDPw84KjFV"
      }
    },
    {
      "cell_type": "code",
      "source": [
        "from sklearn.model_selection import train_test_split,cross_validate\n",
        "from tensorflow.keras.utils import to_categorical\n",
        "\n",
        "\n",
        "Y=to_categorical(df['label'],num_classes=3)  # one hot target as required by NN.\n",
        "x_train,x_test,y_train,y_test=train_test_split(pad_rev,Y,test_size=0.1,random_state=42)\n",
        "x_train,x_val,y_train,y_val=train_test_split(x_train,y_train,test_size=0.20,random_state=42)"
      ],
      "metadata": {
        "id": "n_kIBbDOg6E3"
      },
      "execution_count": 23,
      "outputs": []
    },
    {
      "cell_type": "markdown",
      "source": [
        "**Sử dụng model LSTM**"
      ],
      "metadata": {
        "id": "lXs50Sq_Kqa-"
      }
    },
    {
      "cell_type": "code",
      "source": [
        "from keras.initializers import Constant\n",
        "from keras.layers import ReLU\n",
        "from keras.layers import Dropout\n",
        "model=Sequential()\n",
        "model.add(Embedding(input_dim=vocab_size,output_dim=embed_dim,input_length=max_rev_len,embeddings_initializer=Constant(embed_matrix)))\n",
        "model.add(LSTM(128, dropout=0.2, recurrent_dropout=0.2))\n",
        "model.add(Dense(64, activation='relu'))\n",
        "model.add(Dense(32, activation='relu'))\n",
        "model.add(Dense(3, activation='sigmoid'))\n",
        "model.compile(loss='binary_crossentropy', optimizer='adam', metrics=['accuracy'])\n",
        "print(model.summary())"
      ],
      "metadata": {
        "colab": {
          "base_uri": "https://localhost:8080/"
        },
        "id": "bRiunI8EicxB",
        "outputId": "9657623e-28f4-4aea-d1b0-34ddb79d1c47"
      },
      "execution_count": 25,
      "outputs": [
        {
          "output_type": "stream",
          "name": "stdout",
          "text": [
            "Model: \"sequential_1\"\n",
            "_________________________________________________________________\n",
            " Layer (type)                Output Shape              Param #   \n",
            "=================================================================\n",
            " embedding_1 (Embedding)     (None, 647, 128)          701184    \n",
            "                                                                 \n",
            " lstm_1 (LSTM)               (None, 128)               131584    \n",
            "                                                                 \n",
            " dense_3 (Dense)             (None, 64)                8256      \n",
            "                                                                 \n",
            " dense_4 (Dense)             (None, 32)                2080      \n",
            "                                                                 \n",
            " dense_5 (Dense)             (None, 3)                 99        \n",
            "                                                                 \n",
            "=================================================================\n",
            "Total params: 843,203\n",
            "Trainable params: 843,203\n",
            "Non-trainable params: 0\n",
            "_________________________________________________________________\n",
            "None\n"
          ]
        }
      ]
    },
    {
      "cell_type": "markdown",
      "source": [
        "**Train model LSTM**"
      ],
      "metadata": {
        "id": "Da7E2XRpKuNZ"
      }
    },
    {
      "cell_type": "code",
      "source": [
        "epochs=5\n",
        "batch_size=32\n",
        "# fitting the model.\n",
        "history=model.fit(x_train,y_train,epochs=epochs,batch_size=batch_size,validation_data=(x_val,y_val))"
      ],
      "metadata": {
        "colab": {
          "base_uri": "https://localhost:8080/"
        },
        "id": "_BbOG1USjdLT",
        "outputId": "723cce51-96c5-4d40-b87b-494adb0d36a7"
      },
      "execution_count": null,
      "outputs": [
        {
          "output_type": "stream",
          "name": "stdout",
          "text": [
            "Epoch 1/5\n",
            "670/670 [==============================] - 1197s 2s/step - loss: 0.5874 - accuracy: 0.5467 - val_loss: 0.5908 - val_accuracy: 0.5379\n",
            "Epoch 2/5\n",
            "610/670 [==========================>...] - ETA: 1:43 - loss: 0.5862 - accuracy: 0.5486"
          ]
        }
      ]
    },
    {
      "cell_type": "code",
      "source": [
        "score = model.evaluate(x_test, y_test, verbose=0)\n",
        "print(f'Test loss: {score[0]} / Test accuracy: {score[1]}')"
      ],
      "metadata": {
        "colab": {
          "base_uri": "https://localhost:8080/"
        },
        "id": "zZWqCQ1KQFzP",
        "outputId": "b10b9b80-37a4-44e9-a813-381b42796cf1"
      },
      "execution_count": null,
      "outputs": [
        {
          "output_type": "stream",
          "name": "stdout",
          "text": [
            "Test loss: 0.55046546459198 / Test accuracy: 0.7611689567565918\n"
          ]
        }
      ]
    },
    {
      "cell_type": "markdown",
      "source": [
        "**Vẽ biểu đồ accuracy**"
      ],
      "metadata": {
        "id": "ScyI5aiKK0If"
      }
    },
    {
      "cell_type": "code",
      "source": [
        "# summarize history for accuracy\n",
        "plt.plot(history.history['accuracy'])\n",
        "plt.plot(history.history['val_accuracy'])\n",
        "plt.title('model accuracy')\n",
        "plt.ylabel('accuracy')\n",
        "plt.xlabel('epoch')\n",
        "plt.legend(['train', 'test'], loc='upper left')\n",
        "plt.show()"
      ],
      "metadata": {
        "id": "Z5EhIxudt0tO",
        "outputId": "6052f145-342e-427f-e3ff-91fbdcfef8fa",
        "colab": {
          "base_uri": "https://localhost:8080/",
          "height": 295
        }
      },
      "execution_count": null,
      "outputs": [
        {
          "output_type": "display_data",
          "data": {
            "text/plain": [
              "<Figure size 432x288 with 1 Axes>"
            ],
            "image/png": "[encoded data removed]"
          },
          "metadata": {
            "needs_background": "light"
          }
        }
      ]
    }
  ]
}